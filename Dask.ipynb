{
 "cells": [
  {
   "cell_type": "code",
   "execution_count": 2,
   "metadata": {},
   "outputs": [],
   "source": [
    "import re\n",
    "\n",
    "#NLTK\n",
    "import nltk\n",
    "from nltk import word_tokenize, pos_tag\n",
    "\n",
    "import dask.dataframe as dd"
   ]
  },
  {
   "cell_type": "code",
   "execution_count": 7,
   "metadata": {},
   "outputs": [
    {
     "name": "stderr",
     "output_type": "stream",
     "text": [
      "/home/castares/.local/lib/python3.6/site-packages/distributed/dashboard/core.py:72: UserWarning: \n",
      "Port 8787 is already in use. \n",
      "Perhaps you already have a cluster running?\n",
      "Hosting the diagnostics dashboard on a random port instead.\n",
      "  warnings.warn(\"\\n\" + msg)\n"
     ]
    },
    {
     "data": {
      "text/plain": [
       "True"
      ]
     },
     "execution_count": 7,
     "metadata": {},
     "output_type": "execute_result"
    }
   ],
   "source": [
    "import webbrowser\n",
    "from dask.distributed import Client, LocalCluster\n",
    "\n",
    "cluster = LocalCluster(n_workers=3, processes=True, threads_per_worker=1, dashboard_address=\"localhost:8787\")\n",
    "client = Client(cluster)\n",
    "webbrowser.open(\"http://localhost:8787\")"
   ]
  },
  {
   "cell_type": "code",
   "execution_count": 8,
   "metadata": {},
   "outputs": [],
   "source": [
    "#Import the ratings set.\n",
    "ratings = dd.read_csv('./input/ratings.csv')"
   ]
  },
  {
   "cell_type": "code",
   "execution_count": 6,
   "metadata": {},
   "outputs": [
    {
     "data": {
      "text/plain": [
       "['/home/castares/ironhack/movie-recommender/.output/ratings1.csv/00.part',\n",
       " '/home/castares/ironhack/movie-recommender/.output/ratings1.csv/01.part',\n",
       " '/home/castares/ironhack/movie-recommender/.output/ratings1.csv/02.part',\n",
       " '/home/castares/ironhack/movie-recommender/.output/ratings1.csv/03.part',\n",
       " '/home/castares/ironhack/movie-recommender/.output/ratings1.csv/04.part',\n",
       " '/home/castares/ironhack/movie-recommender/.output/ratings1.csv/05.part',\n",
       " '/home/castares/ironhack/movie-recommender/.output/ratings1.csv/06.part',\n",
       " '/home/castares/ironhack/movie-recommender/.output/ratings1.csv/07.part',\n",
       " '/home/castares/ironhack/movie-recommender/.output/ratings1.csv/08.part',\n",
       " '/home/castares/ironhack/movie-recommender/.output/ratings1.csv/09.part',\n",
       " '/home/castares/ironhack/movie-recommender/.output/ratings1.csv/10.part',\n",
       " '/home/castares/ironhack/movie-recommender/.output/ratings1.csv/11.part']"
      ]
     },
     "execution_count": 6,
     "metadata": {},
     "output_type": "execute_result"
    }
   ],
   "source": []
  },
  {
   "cell_type": "code",
   "execution_count": 9,
   "metadata": {},
   "outputs": [],
   "source": [
    "g_userId = ratings.groupby('userId')"
   ]
  },
  {
   "cell_type": "code",
   "execution_count": 10,
   "metadata": {},
   "outputs": [],
   "source": [
    "user_ratings = g_userId['movieId'].count().compute()"
   ]
  },
  {
   "cell_type": "code",
   "execution_count": 13,
   "metadata": {},
   "outputs": [],
   "source": [
    "user_ratings = user_ratings.reset_index()"
   ]
  },
  {
   "cell_type": "code",
   "execution_count": null,
   "metadata": {},
   "outputs": [],
   "source": [
    "ratings = ratings.merge(user_ratings, left_on='userId', right_on='userId').compute()"
   ]
  },
  {
   "cell_type": "code",
   "execution_count": 19,
   "metadata": {},
   "outputs": [],
   "source": [
    "#Loading the movies_metadata and convert \"id\" column to \"int32\".\n",
    "genres_dummies = dd.read_csv('./input/genres_dummies.csv')"
   ]
  },
  {
   "cell_type": "code",
   "execution_count": 20,
   "metadata": {},
   "outputs": [
    {
     "data": {
      "text/html": [
       "<div><strong>Dask DataFrame Structure:</strong></div>\n",
       "<div>\n",
       "<style scoped>\n",
       "    .dataframe tbody tr th:only-of-type {\n",
       "        vertical-align: middle;\n",
       "    }\n",
       "\n",
       "    .dataframe tbody tr th {\n",
       "        vertical-align: top;\n",
       "    }\n",
       "\n",
       "    .dataframe thead th {\n",
       "        text-align: right;\n",
       "    }\n",
       "</style>\n",
       "<table border=\"1\" class=\"dataframe\">\n",
       "  <thead>\n",
       "    <tr style=\"text-align: right;\">\n",
       "      <th></th>\n",
       "      <th>id</th>\n",
       "      <th>dummy_name_Action</th>\n",
       "      <th>dummy_name_Adventure</th>\n",
       "      <th>dummy_name_Animation</th>\n",
       "      <th>dummy_name_Aniplex</th>\n",
       "      <th>dummy_name_BROSTA TV</th>\n",
       "      <th>dummy_name_Carousel Productions</th>\n",
       "      <th>dummy_name_Comedy</th>\n",
       "      <th>dummy_name_Crime</th>\n",
       "      <th>dummy_name_Documentary</th>\n",
       "      <th>dummy_name_Drama</th>\n",
       "      <th>dummy_name_Family</th>\n",
       "      <th>dummy_name_Fantasy</th>\n",
       "      <th>dummy_name_Foreign</th>\n",
       "      <th>dummy_name_GoHands</th>\n",
       "      <th>dummy_name_History</th>\n",
       "      <th>dummy_name_Horror</th>\n",
       "      <th>dummy_name_Mardock Scramble Production Committee</th>\n",
       "      <th>dummy_name_Music</th>\n",
       "      <th>dummy_name_Mystery</th>\n",
       "      <th>dummy_name_Odyssey Media</th>\n",
       "      <th>dummy_name_Pulser Productions</th>\n",
       "      <th>dummy_name_Rogue State</th>\n",
       "      <th>dummy_name_Romance</th>\n",
       "      <th>dummy_name_Science Fiction</th>\n",
       "      <th>dummy_name_Sentai Filmworks</th>\n",
       "      <th>dummy_name_TV Movie</th>\n",
       "      <th>dummy_name_Telescene Film Group Productions</th>\n",
       "      <th>dummy_name_The Cartel</th>\n",
       "      <th>dummy_name_Thriller</th>\n",
       "      <th>dummy_name_Vision View Entertainment</th>\n",
       "      <th>dummy_name_War</th>\n",
       "      <th>dummy_name_Western</th>\n",
       "    </tr>\n",
       "    <tr>\n",
       "      <th>npartitions=1</th>\n",
       "      <th></th>\n",
       "      <th></th>\n",
       "      <th></th>\n",
       "      <th></th>\n",
       "      <th></th>\n",
       "      <th></th>\n",
       "      <th></th>\n",
       "      <th></th>\n",
       "      <th></th>\n",
       "      <th></th>\n",
       "      <th></th>\n",
       "      <th></th>\n",
       "      <th></th>\n",
       "      <th></th>\n",
       "      <th></th>\n",
       "      <th></th>\n",
       "      <th></th>\n",
       "      <th></th>\n",
       "      <th></th>\n",
       "      <th></th>\n",
       "      <th></th>\n",
       "      <th></th>\n",
       "      <th></th>\n",
       "      <th></th>\n",
       "      <th></th>\n",
       "      <th></th>\n",
       "      <th></th>\n",
       "      <th></th>\n",
       "      <th></th>\n",
       "      <th></th>\n",
       "      <th></th>\n",
       "      <th></th>\n",
       "      <th></th>\n",
       "    </tr>\n",
       "  </thead>\n",
       "  <tbody>\n",
       "    <tr>\n",
       "      <th></th>\n",
       "      <td>int64</td>\n",
       "      <td>int64</td>\n",
       "      <td>int64</td>\n",
       "      <td>int64</td>\n",
       "      <td>int64</td>\n",
       "      <td>int64</td>\n",
       "      <td>int64</td>\n",
       "      <td>int64</td>\n",
       "      <td>int64</td>\n",
       "      <td>int64</td>\n",
       "      <td>int64</td>\n",
       "      <td>int64</td>\n",
       "      <td>int64</td>\n",
       "      <td>int64</td>\n",
       "      <td>int64</td>\n",
       "      <td>int64</td>\n",
       "      <td>int64</td>\n",
       "      <td>int64</td>\n",
       "      <td>int64</td>\n",
       "      <td>int64</td>\n",
       "      <td>int64</td>\n",
       "      <td>int64</td>\n",
       "      <td>int64</td>\n",
       "      <td>int64</td>\n",
       "      <td>int64</td>\n",
       "      <td>int64</td>\n",
       "      <td>int64</td>\n",
       "      <td>int64</td>\n",
       "      <td>int64</td>\n",
       "      <td>int64</td>\n",
       "      <td>int64</td>\n",
       "      <td>int64</td>\n",
       "      <td>int64</td>\n",
       "    </tr>\n",
       "    <tr>\n",
       "      <th></th>\n",
       "      <td>...</td>\n",
       "      <td>...</td>\n",
       "      <td>...</td>\n",
       "      <td>...</td>\n",
       "      <td>...</td>\n",
       "      <td>...</td>\n",
       "      <td>...</td>\n",
       "      <td>...</td>\n",
       "      <td>...</td>\n",
       "      <td>...</td>\n",
       "      <td>...</td>\n",
       "      <td>...</td>\n",
       "      <td>...</td>\n",
       "      <td>...</td>\n",
       "      <td>...</td>\n",
       "      <td>...</td>\n",
       "      <td>...</td>\n",
       "      <td>...</td>\n",
       "      <td>...</td>\n",
       "      <td>...</td>\n",
       "      <td>...</td>\n",
       "      <td>...</td>\n",
       "      <td>...</td>\n",
       "      <td>...</td>\n",
       "      <td>...</td>\n",
       "      <td>...</td>\n",
       "      <td>...</td>\n",
       "      <td>...</td>\n",
       "      <td>...</td>\n",
       "      <td>...</td>\n",
       "      <td>...</td>\n",
       "      <td>...</td>\n",
       "      <td>...</td>\n",
       "    </tr>\n",
       "  </tbody>\n",
       "</table>\n",
       "</div>\n",
       "<div>Dask Name: from-delayed, 3 tasks</div>"
      ],
      "text/plain": [
       "Dask DataFrame Structure:\n",
       "                  id dummy_name_Action dummy_name_Adventure dummy_name_Animation dummy_name_Aniplex dummy_name_BROSTA TV dummy_name_Carousel Productions dummy_name_Comedy dummy_name_Crime dummy_name_Documentary dummy_name_Drama dummy_name_Family dummy_name_Fantasy dummy_name_Foreign dummy_name_GoHands dummy_name_History dummy_name_Horror dummy_name_Mardock Scramble Production Committee dummy_name_Music dummy_name_Mystery dummy_name_Odyssey Media dummy_name_Pulser Productions dummy_name_Rogue State dummy_name_Romance dummy_name_Science Fiction dummy_name_Sentai Filmworks dummy_name_TV Movie dummy_name_Telescene Film Group Productions dummy_name_The Cartel dummy_name_Thriller dummy_name_Vision View Entertainment dummy_name_War dummy_name_Western\n",
       "npartitions=1                                                                                                                                                                                                                                                                                                                                                                                                                                                                                                                                                                                                                                                                                                                                                                    \n",
       "               int64             int64                int64                int64              int64                int64                           int64             int64            int64                  int64            int64             int64              int64              int64              int64              int64             int64                                            int64            int64              int64                    int64                         int64                  int64              int64                      int64                       int64               int64                                       int64                 int64               int64                                int64          int64              int64\n",
       "                 ...               ...                  ...                  ...                ...                  ...                             ...               ...              ...                    ...              ...               ...                ...                ...                ...                ...               ...                                              ...              ...                ...                      ...                           ...                    ...                ...                        ...                         ...                 ...                                         ...                   ...                 ...                                  ...            ...                ...\n",
       "Dask Name: from-delayed, 3 tasks"
      ]
     },
     "execution_count": 20,
     "metadata": {},
     "output_type": "execute_result"
    }
   ],
   "source": [
    "genres_dummies"
   ]
  },
  {
   "cell_type": "markdown",
   "metadata": {},
   "source": [
    "# Clustering usesrs by movie genres"
   ]
  },
  {
   "cell_type": "code",
   "execution_count": null,
   "metadata": {},
   "outputs": [
    {
     "name": "stderr",
     "output_type": "stream",
     "text": [
      "distributed.worker - WARNING - Worker is at 80% memory usage. Pausing worker.  Process memory: 2.20 GB -- Worker memory limit: 2.75 GB\n",
      "distributed.worker - WARNING - Worker is at 90% memory usage. Pausing worker.  Process memory: 2.48 GB -- Worker memory limit: 2.75 GB\n",
      "distributed.worker - WARNING - Worker is at 57% memory usage. Resuming worker. Process memory: 1.58 GB -- Worker memory limit: 2.75 GB\n",
      "distributed.worker - WARNING - Worker is at 57% memory usage. Resuming worker. Process memory: 1.58 GB -- Worker memory limit: 2.75 GB\n",
      "distributed.worker - WARNING - Worker is at 85% memory usage. Pausing worker.  Process memory: 2.34 GB -- Worker memory limit: 2.75 GB\n",
      "distributed.worker - WARNING - Worker is at 87% memory usage. Pausing worker.  Process memory: 2.28 GB -- Worker memory limit: 2.75 GB\n",
      "distributed.worker - WARNING - Memory use is high but worker has no data to store to disk.  Perhaps some other process is leaking memory?  Process memory: 2.22 GB -- Worker memory limit: 2.75 GB\n",
      "distributed.worker - WARNING - Memory use is high but worker has no data to store to disk.  Perhaps some other process is leaking memory?  Process memory: 2.01 GB -- Worker memory limit: 2.75 GB\n",
      "distributed.worker - WARNING - Worker is at 49% memory usage. Resuming worker. Process memory: 1.36 GB -- Worker memory limit: 2.75 GB\n",
      "distributed.worker - WARNING - Worker is at 49% memory usage. Resuming worker. Process memory: 1.36 GB -- Worker memory limit: 2.75 GB\n",
      "distributed.worker - WARNING - Worker is at 80% memory usage. Pausing worker.  Process memory: 2.36 GB -- Worker memory limit: 2.75 GB\n",
      "distributed.worker - WARNING - Worker is at 88% memory usage. Pausing worker.  Process memory: 2.36 GB -- Worker memory limit: 2.75 GB\n",
      "distributed.worker - WARNING - Memory use is high but worker has no data to store to disk.  Perhaps some other process is leaking memory?  Process memory: 1.76 GB -- Worker memory limit: 2.75 GB\n",
      "distributed.worker - WARNING - Worker is at 57% memory usage. Resuming worker. Process memory: 1.58 GB -- Worker memory limit: 2.75 GB\n",
      "distributed.worker - WARNING - Worker is at 57% memory usage. Resuming worker. Process memory: 1.58 GB -- Worker memory limit: 2.75 GB\n",
      "distributed.worker - WARNING - Worker is at 87% memory usage. Pausing worker.  Process memory: 2.27 GB -- Worker memory limit: 2.75 GB\n",
      "distributed.worker - WARNING - Memory use is high but worker has no data to store to disk.  Perhaps some other process is leaking memory?  Process memory: 2.34 GB -- Worker memory limit: 2.75 GB\n",
      "distributed.worker - WARNING - Worker is at 57% memory usage. Resuming worker. Process memory: 1.59 GB -- Worker memory limit: 2.75 GB\n",
      "distributed.worker - WARNING - Worker is at 92% memory usage. Pausing worker.  Process memory: 2.27 GB -- Worker memory limit: 2.75 GB\n",
      "distributed.worker - WARNING - Worker is at 56% memory usage. Resuming worker. Process memory: 1.56 GB -- Worker memory limit: 2.75 GB\n"
     ]
    }
   ],
   "source": [
    "ratings = ratings.merge(genres_dummies, left_on='movieId', right_on='id').compute()"
   ]
  },
  {
   "cell_type": "code",
   "execution_count": null,
   "metadata": {},
   "outputs": [],
   "source": []
  }
 ],
 "metadata": {
  "kernelspec": {
   "display_name": "Python 3",
   "language": "python",
   "name": "python3"
  },
  "language_info": {
   "codemirror_mode": {
    "name": "ipython",
    "version": 3
   },
   "file_extension": ".py",
   "mimetype": "text/x-python",
   "name": "python",
   "nbconvert_exporter": "python",
   "pygments_lexer": "ipython3",
   "version": "3.6.9"
  }
 },
 "nbformat": 4,
 "nbformat_minor": 2
}
