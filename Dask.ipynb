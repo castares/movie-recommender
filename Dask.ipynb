{
 "cells": [
  {
   "cell_type": "code",
   "execution_count": 3,
   "metadata": {},
   "outputs": [],
   "source": [
    "import re\n",
    "\n",
    "#NLTK\n",
    "import nltk\n",
    "from nltk import word_tokenize, pos_tag\n",
    "\n"
   ]
  },
  {
   "cell_type": "code",
   "execution_count": 11,
   "metadata": {},
   "outputs": [
    {
     "data": {
      "text/plain": [
       "True"
      ]
     },
     "execution_count": 11,
     "metadata": {},
     "output_type": "execute_result"
    }
   ],
   "source": [
    "import webbrowser\n",
    "from dask.distributed import Client, LocalCluster\n",
    "import dask.dataframe as dd\n",
    "#cluster = LocalCluster()\n",
    "client = Client('192.168.97.4:8786')\n",
    "webbrowser.open(\"http://localhost:8787\")"
   ]
  },
  {
   "cell_type": "code",
   "execution_count": 12,
   "metadata": {},
   "outputs": [],
   "source": [
    "#Import the ratings set.\n",
    "ratings = dd.read_csv('./input/ratings.csv')"
   ]
  },
  {
   "cell_type": "code",
   "execution_count": 13,
   "metadata": {},
   "outputs": [],
   "source": [
    "g_userId = ratings.groupby('userId')"
   ]
  },
  {
   "cell_type": "code",
   "execution_count": 14,
   "metadata": {},
   "outputs": [],
   "source": [
    "user_ratings = g_userId['movieId'].count().compute()"
   ]
  },
  {
   "cell_type": "code",
   "execution_count": 15,
   "metadata": {},
   "outputs": [],
   "source": [
    "user_ratings = user_ratings.reset_index()"
   ]
  },
  {
   "cell_type": "code",
   "execution_count": 16,
   "metadata": {},
   "outputs": [],
   "source": [
    "ratings = ratings.merge(user_ratings, left_on='userId', right_on='userId').compute()"
   ]
  },
  {
   "cell_type": "code",
   "execution_count": 18,
   "metadata": {},
   "outputs": [],
   "source": [
    "ratings = ratings.loc[ratings['movieId_y'] > 50]\n",
    "ratings = ratings.loc[ratings['movieId_y'] < 500]"
   ]
  },
  {
   "cell_type": "code",
   "execution_count": 20,
   "metadata": {},
   "outputs": [
    {
     "data": {
      "text/plain": [
       "(14231158, 5)"
      ]
     },
     "execution_count": 20,
     "metadata": {},
     "output_type": "execute_result"
    }
   ],
   "source": [
    "ratings.shape"
   ]
  },
  {
   "cell_type": "code",
   "execution_count": 21,
   "metadata": {},
   "outputs": [],
   "source": [
    "#Loading the movies_metadata and convert \"id\" column to \"int32\".\n",
    "genres_dummies = dd.read_csv('./input/genres_dummies.csv')"
   ]
  },
  {
   "cell_type": "code",
   "execution_count": 22,
   "metadata": {},
   "outputs": [
    {
     "data": {
      "text/html": [
       "<div><strong>Dask DataFrame Structure:</strong></div>\n",
       "<div>\n",
       "<style scoped>\n",
       "    .dataframe tbody tr th:only-of-type {\n",
       "        vertical-align: middle;\n",
       "    }\n",
       "\n",
       "    .dataframe tbody tr th {\n",
       "        vertical-align: top;\n",
       "    }\n",
       "\n",
       "    .dataframe thead th {\n",
       "        text-align: right;\n",
       "    }\n",
       "</style>\n",
       "<table border=\"1\" class=\"dataframe\">\n",
       "  <thead>\n",
       "    <tr style=\"text-align: right;\">\n",
       "      <th></th>\n",
       "      <th>id</th>\n",
       "      <th>dummy_name_Action</th>\n",
       "      <th>dummy_name_Adventure</th>\n",
       "      <th>dummy_name_Animation</th>\n",
       "      <th>dummy_name_Aniplex</th>\n",
       "      <th>dummy_name_BROSTA TV</th>\n",
       "      <th>dummy_name_Carousel Productions</th>\n",
       "      <th>dummy_name_Comedy</th>\n",
       "      <th>dummy_name_Crime</th>\n",
       "      <th>dummy_name_Documentary</th>\n",
       "      <th>dummy_name_Drama</th>\n",
       "      <th>dummy_name_Family</th>\n",
       "      <th>dummy_name_Fantasy</th>\n",
       "      <th>dummy_name_Foreign</th>\n",
       "      <th>dummy_name_GoHands</th>\n",
       "      <th>dummy_name_History</th>\n",
       "      <th>dummy_name_Horror</th>\n",
       "      <th>dummy_name_Mardock Scramble Production Committee</th>\n",
       "      <th>dummy_name_Music</th>\n",
       "      <th>dummy_name_Mystery</th>\n",
       "      <th>dummy_name_Odyssey Media</th>\n",
       "      <th>dummy_name_Pulser Productions</th>\n",
       "      <th>dummy_name_Rogue State</th>\n",
       "      <th>dummy_name_Romance</th>\n",
       "      <th>dummy_name_Science Fiction</th>\n",
       "      <th>dummy_name_Sentai Filmworks</th>\n",
       "      <th>dummy_name_TV Movie</th>\n",
       "      <th>dummy_name_Telescene Film Group Productions</th>\n",
       "      <th>dummy_name_The Cartel</th>\n",
       "      <th>dummy_name_Thriller</th>\n",
       "      <th>dummy_name_Vision View Entertainment</th>\n",
       "      <th>dummy_name_War</th>\n",
       "      <th>dummy_name_Western</th>\n",
       "    </tr>\n",
       "    <tr>\n",
       "      <th>npartitions=1</th>\n",
       "      <th></th>\n",
       "      <th></th>\n",
       "      <th></th>\n",
       "      <th></th>\n",
       "      <th></th>\n",
       "      <th></th>\n",
       "      <th></th>\n",
       "      <th></th>\n",
       "      <th></th>\n",
       "      <th></th>\n",
       "      <th></th>\n",
       "      <th></th>\n",
       "      <th></th>\n",
       "      <th></th>\n",
       "      <th></th>\n",
       "      <th></th>\n",
       "      <th></th>\n",
       "      <th></th>\n",
       "      <th></th>\n",
       "      <th></th>\n",
       "      <th></th>\n",
       "      <th></th>\n",
       "      <th></th>\n",
       "      <th></th>\n",
       "      <th></th>\n",
       "      <th></th>\n",
       "      <th></th>\n",
       "      <th></th>\n",
       "      <th></th>\n",
       "      <th></th>\n",
       "      <th></th>\n",
       "      <th></th>\n",
       "      <th></th>\n",
       "    </tr>\n",
       "  </thead>\n",
       "  <tbody>\n",
       "    <tr>\n",
       "      <th></th>\n",
       "      <td>int64</td>\n",
       "      <td>int64</td>\n",
       "      <td>int64</td>\n",
       "      <td>int64</td>\n",
       "      <td>int64</td>\n",
       "      <td>int64</td>\n",
       "      <td>int64</td>\n",
       "      <td>int64</td>\n",
       "      <td>int64</td>\n",
       "      <td>int64</td>\n",
       "      <td>int64</td>\n",
       "      <td>int64</td>\n",
       "      <td>int64</td>\n",
       "      <td>int64</td>\n",
       "      <td>int64</td>\n",
       "      <td>int64</td>\n",
       "      <td>int64</td>\n",
       "      <td>int64</td>\n",
       "      <td>int64</td>\n",
       "      <td>int64</td>\n",
       "      <td>int64</td>\n",
       "      <td>int64</td>\n",
       "      <td>int64</td>\n",
       "      <td>int64</td>\n",
       "      <td>int64</td>\n",
       "      <td>int64</td>\n",
       "      <td>int64</td>\n",
       "      <td>int64</td>\n",
       "      <td>int64</td>\n",
       "      <td>int64</td>\n",
       "      <td>int64</td>\n",
       "      <td>int64</td>\n",
       "      <td>int64</td>\n",
       "    </tr>\n",
       "    <tr>\n",
       "      <th></th>\n",
       "      <td>...</td>\n",
       "      <td>...</td>\n",
       "      <td>...</td>\n",
       "      <td>...</td>\n",
       "      <td>...</td>\n",
       "      <td>...</td>\n",
       "      <td>...</td>\n",
       "      <td>...</td>\n",
       "      <td>...</td>\n",
       "      <td>...</td>\n",
       "      <td>...</td>\n",
       "      <td>...</td>\n",
       "      <td>...</td>\n",
       "      <td>...</td>\n",
       "      <td>...</td>\n",
       "      <td>...</td>\n",
       "      <td>...</td>\n",
       "      <td>...</td>\n",
       "      <td>...</td>\n",
       "      <td>...</td>\n",
       "      <td>...</td>\n",
       "      <td>...</td>\n",
       "      <td>...</td>\n",
       "      <td>...</td>\n",
       "      <td>...</td>\n",
       "      <td>...</td>\n",
       "      <td>...</td>\n",
       "      <td>...</td>\n",
       "      <td>...</td>\n",
       "      <td>...</td>\n",
       "      <td>...</td>\n",
       "      <td>...</td>\n",
       "      <td>...</td>\n",
       "    </tr>\n",
       "  </tbody>\n",
       "</table>\n",
       "</div>\n",
       "<div>Dask Name: from-delayed, 3 tasks</div>"
      ],
      "text/plain": [
       "Dask DataFrame Structure:\n",
       "                  id dummy_name_Action dummy_name_Adventure dummy_name_Animation dummy_name_Aniplex dummy_name_BROSTA TV dummy_name_Carousel Productions dummy_name_Comedy dummy_name_Crime dummy_name_Documentary dummy_name_Drama dummy_name_Family dummy_name_Fantasy dummy_name_Foreign dummy_name_GoHands dummy_name_History dummy_name_Horror dummy_name_Mardock Scramble Production Committee dummy_name_Music dummy_name_Mystery dummy_name_Odyssey Media dummy_name_Pulser Productions dummy_name_Rogue State dummy_name_Romance dummy_name_Science Fiction dummy_name_Sentai Filmworks dummy_name_TV Movie dummy_name_Telescene Film Group Productions dummy_name_The Cartel dummy_name_Thriller dummy_name_Vision View Entertainment dummy_name_War dummy_name_Western\n",
       "npartitions=1                                                                                                                                                                                                                                                                                                                                                                                                                                                                                                                                                                                                                                                                                                                                                                    \n",
       "               int64             int64                int64                int64              int64                int64                           int64             int64            int64                  int64            int64             int64              int64              int64              int64              int64             int64                                            int64            int64              int64                    int64                         int64                  int64              int64                      int64                       int64               int64                                       int64                 int64               int64                                int64          int64              int64\n",
       "                 ...               ...                  ...                  ...                ...                  ...                             ...               ...              ...                    ...              ...               ...                ...                ...                ...                ...               ...                                              ...              ...                ...                      ...                           ...                    ...                ...                        ...                         ...                 ...                                         ...                   ...                 ...                                  ...            ...                ...\n",
       "Dask Name: from-delayed, 3 tasks"
      ]
     },
     "execution_count": 22,
     "metadata": {},
     "output_type": "execute_result"
    }
   ],
   "source": [
    "genres_dummies"
   ]
  },
  {
   "cell_type": "markdown",
   "metadata": {},
   "source": [
    "# Clustering usesrs by movie genres"
   ]
  },
  {
   "cell_type": "code",
   "execution_count": null,
   "metadata": {},
   "outputs": [],
   "source": [
    "dd.merge(ratings, genres_dummies, left_on='movieId_x', right_on='id')"
   ]
  },
  {
   "cell_type": "code",
   "execution_count": null,
   "metadata": {},
   "outputs": [],
   "source": []
  }
 ],
 "metadata": {
  "kernelspec": {
   "display_name": "Python 3",
   "language": "python",
   "name": "python3"
  },
  "language_info": {
   "codemirror_mode": {
    "name": "ipython",
    "version": 3
   },
   "file_extension": ".py",
   "mimetype": "text/x-python",
   "name": "python",
   "nbconvert_exporter": "python",
   "pygments_lexer": "ipython3",
   "version": "3.6.9"
  }
 },
 "nbformat": 4,
 "nbformat_minor": 2
}
