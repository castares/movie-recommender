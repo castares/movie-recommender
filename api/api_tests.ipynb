{
 "cells": [
  {
   "cell_type": "code",
   "execution_count": 1,
   "metadata": {},
   "outputs": [],
   "source": [
    "import api\n",
    "import src.database_queries as dbq\n",
    "from joblib import dump, load\n",
    "import requests\n",
    "import json"
   ]
  },
  {
   "cell_type": "code",
   "execution_count": 2,
   "metadata": {},
   "outputs": [],
   "source": [
    "with open(\"models/gbrdefaultpickle_file.joblib\", 'rb') as gbrpickle:\n",
    "    gbr = load(gbrpickle)"
   ]
  },
  {
   "cell_type": "code",
   "execution_count": 52,
   "metadata": {},
   "outputs": [],
   "source": [
    "predict = requests.get(\"http://0.0.0.0:8080/user/671\").json()"
   ]
  },
  {
   "cell_type": "code",
   "execution_count": 7,
   "metadata": {},
   "outputs": [],
   "source": [
    "user = dbq.topratedMovies(671)"
   ]
  },
  {
   "cell_type": "code",
   "execution_count": 8,
   "metadata": {},
   "outputs": [
    {
     "data": {
      "text/plain": [
       "[{'movieId': 296, 'rating': 4.0},\n",
       " {'movieId': 457, 'rating': 4.0},\n",
       " {'movieId': 551, 'rating': 5.0},\n",
       " {'movieId': 588, 'rating': 4.0},\n",
       " {'movieId': 590, 'rating': 4.0},\n",
       " {'movieId': 318, 'rating': 5.0},\n",
       " {'movieId': 2028, 'rating': 4.0},\n",
       " {'movieId': 2762, 'rating': 4.0},\n",
       " {'movieId': 2959, 'rating': 4.0},\n",
       " {'movieId': 260, 'rating': 5.0},\n",
       " {'movieId': 919, 'rating': 4.0},\n",
       " {'movieId': 1259, 'rating': 4.0},\n",
       " {'movieId': 1265, 'rating': 4.0},\n",
       " {'movieId': 1387, 'rating': 4.0},\n",
       " {'movieId': 2064, 'rating': 4.0},\n",
       " {'movieId': 3060, 'rating': 4.0},\n",
       " {'movieId': 1247, 'rating': 4.0},\n",
       " {'movieId': 1923, 'rating': 4.0},\n",
       " {'movieId': 2355, 'rating': 4.0},\n",
       " {'movieId': 2502, 'rating': 3.5},\n",
       " {'movieId': 3114, 'rating': 5.0},\n",
       " {'movieId': 4995, 'rating': 4.0},\n",
       " {'movieId': 5816, 'rating': 4.0},\n",
       " {'movieId': 5995, 'rating': 4.0},\n",
       " {'movieId': 3052, 'rating': 1.0},\n",
       " {'movieId': 745, 'rating': 4.0},\n",
       " {'movieId': 2324, 'rating': 4.0},\n",
       " {'movieId': 4011, 'rating': 4.0},\n",
       " {'movieId': 4034, 'rating': 4.5},\n",
       " {'movieId': 4886, 'rating': 5.0},\n",
       " {'movieId': 4896, 'rating': 5.0},\n",
       " {'movieId': 4973, 'rating': 4.5},\n",
       " {'movieId': 4993, 'rating': 5.0},\n",
       " {'movieId': 608, 'rating': 4.0},\n",
       " {'movieId': 2291, 'rating': 5.0},\n",
       " {'movieId': 1266, 'rating': 4.0},\n",
       " {'movieId': 1610, 'rating': 4.0},\n",
       " {'movieId': 1673, 'rating': 3.5},\n",
       " {'movieId': 1676, 'rating': 3.0},\n",
       " {'movieId': 2011, 'rating': 3.5},\n",
       " {'movieId': 3160, 'rating': 3.0},\n",
       " {'movieId': 5902, 'rating': 3.5},\n",
       " {'movieId': 5991, 'rating': 4.5},\n",
       " {'movieId': 1090, 'rating': 4.0},\n",
       " {'movieId': 1641, 'rating': 4.0},\n",
       " {'movieId': 2359, 'rating': 4.0},\n",
       " {'movieId': 4880, 'rating': 4.0}]"
      ]
     },
     "execution_count": 8,
     "metadata": {},
     "output_type": "execute_result"
    }
   ],
   "source": [
    "user"
   ]
  },
  {
   "cell_type": "code",
   "execution_count": 38,
   "metadata": {},
   "outputs": [
    {
     "data": {
      "text/plain": [
       "'\"{\\\\\"userId\\\\\": 671, \\\\\"predictions\\\\\": [{\\\\\"id\\\\\": 8208, \\\\\"name\\\\\": \\\\\"The Man Who Knew Too Much\\\\\", \\\\\"predicted rating\\\\\": 4.9}, {\\\\\"id\\\\\": 26578, \\\\\"name\\\\\": \\\\\"The Falcon and the Snowman\\\\\", \\\\\"predicted rating\\\\\": 4.9}, {\\\\\"id\\\\\": 1563, \\\\\"name\\\\\": \\\\\"Sans soleil\\\\\", \\\\\"predicted rating\\\\\": 4.9}, {\\\\\"id\\\\\": 9010, \\\\\"name\\\\\": \\\\\"Silentium\\\\\", \\\\\"predicted rating\\\\\": 4.9}, {\\\\\"id\\\\\": 1450, \\\\\"name\\\\\": \\\\\"Blood: The Last Vampire\\\\\", \\\\\"predicted rating\\\\\": 4.9}, {\\\\\"id\\\\\": 31903, \\\\\"name\\\\\": \\\\\"History Is Made at Night\\\\\", \\\\\"predicted rating\\\\\": 4.9}, {\\\\\"id\\\\\": 36931, \\\\\"name\\\\\": \\\\\"Hak bak do\\\\\", \\\\\"predicted rating\\\\\": 4.9}, {\\\\\"id\\\\\": 54328, \\\\\"name\\\\\": \\\\\"\\\\\\\\u6d77\\\\\\\\u6d0b\\\\\\\\u5929\\\\\\\\u5802\\\\\", \\\\\"predicted rating\\\\\": 4.9}, {\\\\\"id\\\\\": 74727, \\\\\"name\\\\\": \\\\\"Long Pigs\\\\\", \\\\\"predicted rating\\\\\": 4.9}, {\\\\\"id\\\\\": 6107, \\\\\"name\\\\\": \\\\\"Murder in Three Acts\\\\\", \\\\\"predicted rating\\\\\": 4.9}]}\"'"
      ]
     },
     "execution_count": 38,
     "metadata": {},
     "output_type": "execute_result"
    }
   ],
   "source": [
    "predict"
   ]
  },
  {
   "cell_type": "code",
   "execution_count": 17,
   "metadata": {},
   "outputs": [],
   "source": [
    "cluster = requests.get(\"http://0.0.0.0:8080/user/list/1\").json()"
   ]
  },
  {
   "cell_type": "code",
   "execution_count": 18,
   "metadata": {},
   "outputs": [
    {
     "data": {
      "text/plain": [
       "list"
      ]
     },
     "execution_count": 18,
     "metadata": {},
     "output_type": "execute_result"
    }
   ],
   "source": [
    "type(cluster)"
   ]
  },
  {
   "cell_type": "code",
   "execution_count": 25,
   "metadata": {},
   "outputs": [
    {
     "data": {
      "text/plain": [
       "'\"[\\\\\"userId\\\\\", \\\\\"predictions\\\\\"]\"'"
      ]
     },
     "execution_count": 25,
     "metadata": {},
     "output_type": "execute_result"
    }
   ],
   "source": [
    "predict"
   ]
  },
  {
   "cell_type": "code",
   "execution_count": 4,
   "metadata": {},
   "outputs": [
    {
     "data": {
      "text/plain": [
       "[{'id': 8208, 'name': 'The Man Who Knew Too Much', 'predicted rating': 4.9},\n",
       " {'id': 26578, 'name': 'The Falcon and the Snowman', 'predicted rating': 4.9},\n",
       " {'id': 1563, 'name': 'Sans soleil', 'predicted rating': 4.9},\n",
       " {'id': 9010, 'name': 'Silentium', 'predicted rating': 4.9},\n",
       " {'id': 1450, 'name': 'Blood: The Last Vampire', 'predicted rating': 4.9},\n",
       " {'id': 36931, 'name': 'Hak bak do', 'predicted rating': 4.9},\n",
       " {'id': 4930, 'name': 'House of Cards', 'predicted rating': 4.9},\n",
       " {'id': 27724, 'name': 'Psychopathia Sexualis', 'predicted rating': 4.9},\n",
       " {'id': 74727, 'name': 'Long Pigs', 'predicted rating': 4.9},\n",
       " {'id': 6107, 'name': 'Murder in Three Acts', 'predicted rating': 4.9}]"
      ]
     },
     "execution_count": 4,
     "metadata": {},
     "output_type": "execute_result"
    }
   ],
   "source": [
    "results = api.recommender(8)\n",
    "results"
   ]
  },
  {
   "cell_type": "code",
   "execution_count": 33,
   "metadata": {},
   "outputs": [
    {
     "data": {
      "text/plain": [
       "[{'id': 872, 'name': \"Singin' in the Rain\", 'predicted rating': 4.8},\n",
       " {'id': 8208, 'name': 'The Man Who Knew Too Much', 'predicted rating': 4.8},\n",
       " {'id': 26578, 'name': 'The Falcon and the Snowman', 'predicted rating': 4.9},\n",
       " {'id': 36931, 'name': 'Hak bak do', 'predicted rating': 4.9},\n",
       " {'id': 54328, 'name': '海洋天堂', 'predicted rating': 4.8},\n",
       " {'id': 91690, 'name': 'Les neiges du Kilimandjaro', 'predicted rating': 4.8},\n",
       " {'id': 86817, 'name': 'The Cosmonaut', 'predicted rating': 4.8},\n",
       " {'id': 31413, 'name': 'Masumiyet', 'predicted rating': 4.8},\n",
       " {'id': 27724, 'name': 'Psychopathia Sexualis', 'predicted rating': 4.8},\n",
       " {'id': 6107, 'name': 'Murder in Three Acts', 'predicted rating': 4.9}]"
      ]
     },
     "execution_count": 33,
     "metadata": {},
     "output_type": "execute_result"
    }
   ],
   "source": [
    "results2 = api.recommenderWeekday(22,2)\n",
    "results2"
   ]
  },
  {
   "cell_type": "code",
   "execution_count": 34,
   "metadata": {},
   "outputs": [
    {
     "data": {
      "text/plain": [
       "[{'id': 2897,\n",
       "  'name': 'Around the World in Eighty Days',\n",
       "  'predicted rating': 4.7},\n",
       " {'id': 26578, 'name': 'The Falcon and the Snowman', 'predicted rating': 4.7},\n",
       " {'id': 1563, 'name': 'Sans soleil', 'predicted rating': 4.7},\n",
       " {'id': 9010, 'name': 'Silentium', 'predicted rating': 4.7},\n",
       " {'id': 1450, 'name': 'Blood: The Last Vampire', 'predicted rating': 4.7},\n",
       " {'id': 4822, 'name': 'Kismet', 'predicted rating': 4.7},\n",
       " {'id': 36931, 'name': 'Hak bak do', 'predicted rating': 4.7},\n",
       " {'id': 91690, 'name': 'Les neiges du Kilimandjaro', 'predicted rating': 4.7},\n",
       " {'id': 74727, 'name': 'Long Pigs', 'predicted rating': 4.7},\n",
       " {'id': 6107, 'name': 'Murder in Three Acts', 'predicted rating': 4.7}]"
      ]
     },
     "execution_count": 34,
     "metadata": {},
     "output_type": "execute_result"
    }
   ],
   "source": [
    "results3 = api.recommenderWeekday(26,5)\n",
    "results3"
   ]
  },
  {
   "cell_type": "code",
   "execution_count": 4,
   "metadata": {},
   "outputs": [],
   "source": [
    "user, to_watch = mdb.getMoviestoWatch(268)"
   ]
  },
  {
   "cell_type": "code",
   "execution_count": 6,
   "metadata": {},
   "outputs": [],
   "source": [
    "import pandas as pd\n",
    "df = pd.DataFrame.from_dict(to_watch)"
   ]
  },
  {
   "cell_type": "code",
   "execution_count": 7,
   "metadata": {},
   "outputs": [
    {
     "data": {
      "text/html": [
       "<div>\n",
       "<style scoped>\n",
       "    .dataframe tbody tr th:only-of-type {\n",
       "        vertical-align: middle;\n",
       "    }\n",
       "\n",
       "    .dataframe tbody tr th {\n",
       "        vertical-align: top;\n",
       "    }\n",
       "\n",
       "    .dataframe thead th {\n",
       "        text-align: right;\n",
       "    }\n",
       "</style>\n",
       "<table border=\"1\" class=\"dataframe\">\n",
       "  <thead>\n",
       "    <tr style=\"text-align: right;\">\n",
       "      <th></th>\n",
       "      <th>_id</th>\n",
       "    </tr>\n",
       "  </thead>\n",
       "  <tbody>\n",
       "    <tr>\n",
       "      <th>0</th>\n",
       "      <td>5e121fe651ceb8cb53195c19</td>\n",
       "    </tr>\n",
       "    <tr>\n",
       "      <th>1</th>\n",
       "      <td>5e121fe751ceb8cb53195c1a</td>\n",
       "    </tr>\n",
       "    <tr>\n",
       "      <th>2</th>\n",
       "      <td>5e121fe751ceb8cb53195c1d</td>\n",
       "    </tr>\n",
       "    <tr>\n",
       "      <th>3</th>\n",
       "      <td>5e121fe751ceb8cb53195c1e</td>\n",
       "    </tr>\n",
       "    <tr>\n",
       "      <th>4</th>\n",
       "      <td>5e121fe851ceb8cb53195c1f</td>\n",
       "    </tr>\n",
       "    <tr>\n",
       "      <th>...</th>\n",
       "      <td>...</td>\n",
       "    </tr>\n",
       "    <tr>\n",
       "      <th>1579</th>\n",
       "      <td>5e12214e51ceb8cb53196550</td>\n",
       "    </tr>\n",
       "    <tr>\n",
       "      <th>1580</th>\n",
       "      <td>5e12214f51ceb8cb53196553</td>\n",
       "    </tr>\n",
       "    <tr>\n",
       "      <th>1581</th>\n",
       "      <td>5e12214f51ceb8cb53196554</td>\n",
       "    </tr>\n",
       "    <tr>\n",
       "      <th>1582</th>\n",
       "      <td>5e12214f51ceb8cb53196558</td>\n",
       "    </tr>\n",
       "    <tr>\n",
       "      <th>1583</th>\n",
       "      <td>5e12215151ceb8cb53196565</td>\n",
       "    </tr>\n",
       "  </tbody>\n",
       "</table>\n",
       "<p>1584 rows × 1 columns</p>\n",
       "</div>"
      ],
      "text/plain": [
       "                           _id\n",
       "0     5e121fe651ceb8cb53195c19\n",
       "1     5e121fe751ceb8cb53195c1a\n",
       "2     5e121fe751ceb8cb53195c1d\n",
       "3     5e121fe751ceb8cb53195c1e\n",
       "4     5e121fe851ceb8cb53195c1f\n",
       "...                        ...\n",
       "1579  5e12214e51ceb8cb53196550\n",
       "1580  5e12214f51ceb8cb53196553\n",
       "1581  5e12214f51ceb8cb53196554\n",
       "1582  5e12214f51ceb8cb53196558\n",
       "1583  5e12215151ceb8cb53196565\n",
       "\n",
       "[1584 rows x 1 columns]"
      ]
     },
     "execution_count": 7,
     "metadata": {},
     "output_type": "execute_result"
    }
   ],
   "source": [
    "df"
   ]
  },
  {
   "cell_type": "code",
   "execution_count": null,
   "metadata": {},
   "outputs": [],
   "source": []
  }
 ],
 "metadata": {
  "kernelspec": {
   "display_name": "Python 3",
   "language": "python",
   "name": "python3"
  },
  "language_info": {
   "codemirror_mode": {
    "name": "ipython",
    "version": 3
   },
   "file_extension": ".py",
   "mimetype": "text/x-python",
   "name": "python",
   "nbconvert_exporter": "python",
   "pygments_lexer": "ipython3",
   "version": "3.6.9"
  }
 },
 "nbformat": 4,
 "nbformat_minor": 4
}
