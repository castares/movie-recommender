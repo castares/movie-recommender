{
 "cells": [
  {
   "cell_type": "code",
   "execution_count": 6,
   "metadata": {},
   "outputs": [],
   "source": [
    "import requests\n",
    "import json"
   ]
  },
  {
   "cell_type": "code",
   "execution_count": 7,
   "metadata": {},
   "outputs": [],
   "source": [
    "url = \"http://0.0.0.0:8080\""
   ]
  },
  {
   "cell_type": "code",
   "execution_count": 24,
   "metadata": {},
   "outputs": [
    {
     "data": {
      "text/plain": [
       "{'userId': 671,\n",
       " 'predictions': [{'id': 2086, 'name': 'Nick of Time', 'predicted rating': 4.9},\n",
       "  {'id': 845, 'name': 'Strangers on a Train', 'predicted rating': 4.9},\n",
       "  {'id': 8675, 'name': 'Orgazmo', 'predicted rating': 4.9},\n",
       "  {'id': 26791, 'name': 'Brigham City', 'predicted rating': 4.9},\n",
       "  {'id': 3112, 'name': 'The Night of the Hunter', 'predicted rating': 4.9},\n",
       "  {'id': 876, 'name': \"Frank Herbert's Dune\", 'predicted rating': 4.9},\n",
       "  {'id': 8699,\n",
       "   'name': 'Anchorman: The Legend of Ron Burgundy',\n",
       "   'predicted rating': 4.9},\n",
       "  {'id': 4140, 'name': 'Blindsight', 'predicted rating': 4.9},\n",
       "  {'id': 59392, 'name': 'Contraluz', 'predicted rating': 4.9},\n",
       "  {'id': 6163, 'name': 'The Hessen Affair', 'predicted rating': 4.9}]}"
      ]
     },
     "execution_count": 24,
     "metadata": {},
     "output_type": "execute_result"
    }
   ],
   "source": [
    "#1 \n",
    "endpoint = \"user/671/recommendation\"\n",
    "res = requests.get(url+endpoint)\n",
    "res.json()"
   ]
  },
  {
   "cell_type": "code",
   "execution_count": 20,
   "metadata": {},
   "outputs": [
    {
     "data": {
      "text/plain": [
       "{'671': [{'movieId': 296, 'rating': 4.0},\n",
       "  {'movieId': 457, 'rating': 4.0},\n",
       "  {'movieId': 551, 'rating': 5.0},\n",
       "  {'movieId': 588, 'rating': 4.0},\n",
       "  {'movieId': 590, 'rating': 4.0},\n",
       "  {'movieId': 318, 'rating': 5.0},\n",
       "  {'movieId': 2028, 'rating': 4.0},\n",
       "  {'movieId': 2762, 'rating': 4.0},\n",
       "  {'movieId': 2959, 'rating': 4.0},\n",
       "  {'movieId': 260, 'rating': 5.0},\n",
       "  {'movieId': 919, 'rating': 4.0},\n",
       "  {'movieId': 1259, 'rating': 4.0},\n",
       "  {'movieId': 1265, 'rating': 4.0},\n",
       "  {'movieId': 1387, 'rating': 4.0},\n",
       "  {'movieId': 2064, 'rating': 4.0},\n",
       "  {'movieId': 3060, 'rating': 4.0},\n",
       "  {'movieId': 1247, 'rating': 4.0},\n",
       "  {'movieId': 1923, 'rating': 4.0},\n",
       "  {'movieId': 2355, 'rating': 4.0},\n",
       "  {'movieId': 2502, 'rating': 3.5},\n",
       "  {'movieId': 3114, 'rating': 5.0},\n",
       "  {'movieId': 4995, 'rating': 4.0},\n",
       "  {'movieId': 5816, 'rating': 4.0},\n",
       "  {'movieId': 5995, 'rating': 4.0},\n",
       "  {'movieId': 3052, 'rating': 1.0},\n",
       "  {'movieId': 745, 'rating': 4.0},\n",
       "  {'movieId': 2324, 'rating': 4.0},\n",
       "  {'movieId': 4011, 'rating': 4.0},\n",
       "  {'movieId': 4034, 'rating': 4.5},\n",
       "  {'movieId': 4886, 'rating': 5.0},\n",
       "  {'movieId': 4896, 'rating': 5.0},\n",
       "  {'movieId': 4973, 'rating': 4.5},\n",
       "  {'movieId': 4993, 'rating': 5.0},\n",
       "  {'movieId': 608, 'rating': 4.0},\n",
       "  {'movieId': 2291, 'rating': 5.0},\n",
       "  {'movieId': 1266, 'rating': 4.0},\n",
       "  {'movieId': 1610, 'rating': 4.0},\n",
       "  {'movieId': 1673, 'rating': 3.5},\n",
       "  {'movieId': 1676, 'rating': 3.0},\n",
       "  {'movieId': 2011, 'rating': 3.5},\n",
       "  {'movieId': 3160, 'rating': 3.0},\n",
       "  {'movieId': 5902, 'rating': 3.5},\n",
       "  {'movieId': 5991, 'rating': 4.5},\n",
       "  {'movieId': 1090, 'rating': 4.0},\n",
       "  {'movieId': 1641, 'rating': 4.0},\n",
       "  {'movieId': 2359, 'rating': 4.0},\n",
       "  {'movieId': 4880, 'rating': 4.0}]}"
      ]
     },
     "execution_count": 20,
     "metadata": {},
     "output_type": "execute_result"
    }
   ],
   "source": [
    "#2 \n",
    "endpoint = \"user/671/rated\"\n",
    "res = requests.get(url+endpoint)\n",
    "res.json()"
   ]
  },
  {
   "cell_type": "code",
   "execution_count": 23,
   "metadata": {},
   "outputs": [
    {
     "data": {
      "text/plain": [
       "[{'userId': 17, 'user_rt_mean': 3.743801652892562, 'cluster': 3},\n",
       " {'userId': 48, 'user_rt_mean': 3.5146198830409356, 'cluster': 3},\n",
       " {'userId': 56, 'user_rt_mean': 3.6149425287356323, 'cluster': 3},\n",
       " {'userId': 77, 'user_rt_mean': 3.3190476190476192, 'cluster': 3},\n",
       " {'userId': 157, 'user_rt_mean': 3.4003067484662575, 'cluster': 3},\n",
       " {'userId': 187, 'user_rt_mean': 3.677469135802469, 'cluster': 3},\n",
       " {'userId': 199, 'user_rt_mean': 3.6492890995260665, 'cluster': 3},\n",
       " {'userId': 262, 'user_rt_mean': 2.6131656804733727, 'cluster': 3},\n",
       " {'userId': 299, 'user_rt_mean': 4.160762942779291, 'cluster': 3},\n",
       " {'userId': 382, 'user_rt_mean': 3.090764331210191, 'cluster': 3},\n",
       " {'userId': 384, 'user_rt_mean': 3.2329896907216495, 'cluster': 3},\n",
       " {'userId': 402, 'user_rt_mean': 3.6677115987460813, 'cluster': 3},\n",
       " {'userId': 423, 'user_rt_mean': 3.6296829971181555, 'cluster': 3},\n",
       " {'userId': 427, 'user_rt_mean': 3.891156462585034, 'cluster': 3},\n",
       " {'userId': 457, 'user_rt_mean': 2.502805049088359, 'cluster': 3},\n",
       " {'userId': 463, 'user_rt_mean': 3.358178053830228, 'cluster': 3},\n",
       " {'userId': 475, 'user_rt_mean': 2.761832061068702, 'cluster': 3},\n",
       " {'userId': 480, 'user_rt_mean': 3.998677248677249, 'cluster': 3},\n",
       " {'userId': 481, 'user_rt_mean': 4.137614678899083, 'cluster': 3},\n",
       " {'userId': 500, 'user_rt_mean': 2.9819277108433737, 'cluster': 3},\n",
       " {'userId': 574, 'user_rt_mean': 3.5116959064327484, 'cluster': 3},\n",
       " {'userId': 596, 'user_rt_mean': 3.6262833675564683, 'cluster': 3},\n",
       " {'userId': 598, 'user_rt_mean': 3.4358974358974357, 'cluster': 3},\n",
       " {'userId': 615, 'user_rt_mean': 3.602597402597403, 'cluster': 3},\n",
       " {'userId': 648, 'user_rt_mean': 3.62890625, 'cluster': 3},\n",
       " {'userId': 664, 'user_rt_mean': 3.796724470134875, 'cluster': 3}]"
      ]
     },
     "execution_count": 23,
     "metadata": {},
     "output_type": "execute_result"
    }
   ],
   "source": [
    "#3\n",
    "endpoint = \"user/list/3\"\n",
    "res = requests.get(url+endpoint)\n",
    "res.json()"
   ]
  },
  {
   "cell_type": "code",
   "execution_count": null,
   "metadata": {},
   "outputs": [],
   "source": []
  }
 ],
 "metadata": {
  "kernelspec": {
   "display_name": "Python 3",
   "language": "python",
   "name": "python3"
  },
  "language_info": {
   "codemirror_mode": {
    "name": "ipython",
    "version": 3
   },
   "file_extension": ".py",
   "mimetype": "text/x-python",
   "name": "python",
   "nbconvert_exporter": "python",
   "pygments_lexer": "ipython3",
   "version": "3.6.9"
  }
 },
 "nbformat": 4,
 "nbformat_minor": 4
}
