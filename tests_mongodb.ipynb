{
 "cells": [
  {
   "cell_type": "code",
   "execution_count": 113,
   "metadata": {},
   "outputs": [
    {
     "name": "stderr",
     "output_type": "stream",
     "text": [
      "[nltk_data] Downloading package averaged_perceptron_tagger to\n",
      "[nltk_data]     /home/castares/nltk_data...\n",
      "[nltk_data]   Unzipping taggers/averaged_perceptron_tagger.zip.\n",
      "[nltk_data] Downloading package punkt to /home/castares/nltk_data...\n",
      "[nltk_data]   Package punkt is already up-to-date!\n"
     ]
    }
   ],
   "source": [
    "import os\n",
    "from pymongo import MongoClient\n",
    "from bson.json_util import loads, dumps\n",
    "import json\n",
    "\n",
    "#NLTK\n",
    "import nltk\n",
    "from nltk import word_tokenize, pos_tag\n",
    "from nltk.corpus import stopwords\n",
    "from nltk.sentiment.vader import SentimentIntensityAnalyzer\n",
    "from nltk.tokenize import RegexpTokenizer\n",
    "#nltk.download('stopwords')\n",
    "#nltk.download('vader_lexicon')\n",
    "nltk.download('averaged_perceptron_tagger')\n",
    "nltk.download('punkt')\n",
    "sid = SentimentIntensityAnalyzer()\n",
    "stop_words = set(stopwords.words('english'))"
   ]
  },
  {
   "cell_type": "code",
   "execution_count": 67,
   "metadata": {},
   "outputs": [],
   "source": [
    "# define Client, Database and collections on that database\n",
    "client = MongoClient()\n",
    "# define database\n",
    "db = client['movie_recommender']\n",
    "# define collections\n",
    "metadata = db['movies_metadata']"
   ]
  },
  {
   "cell_type": "code",
   "execution_count": 94,
   "metadata": {},
   "outputs": [],
   "source": [
    "def processAbstract(movieid):\n",
    "    abstract = list(metadata.find({\"id\":movieid},{\"overview\":1}))\n",
    "    tokenizer = RegexpTokenizer(r'\\w+')\n",
    "    tokens = tokenizer.tokenize(abstract[0]['overview'])\n",
    "    tokens_clean = [e for e in tokens if e not in stop_words]\n",
    "    return tokens_clean"
   ]
  },
  {
   "cell_type": "code",
   "execution_count": 95,
   "metadata": {},
   "outputs": [
    {
     "data": {
      "text/plain": [
       "['Taisto',\n",
       " 'Kasurinen',\n",
       " 'Finnish',\n",
       " 'coal',\n",
       " 'miner',\n",
       " 'whose',\n",
       " 'father',\n",
       " 'committed',\n",
       " 'suicide',\n",
       " 'framed',\n",
       " 'crime',\n",
       " 'commit',\n",
       " 'In',\n",
       " 'jail',\n",
       " 'starts',\n",
       " 'dream',\n",
       " 'leaving',\n",
       " 'country',\n",
       " 'starting',\n",
       " 'new',\n",
       " 'life',\n",
       " 'He',\n",
       " 'escapes',\n",
       " 'prison',\n",
       " 'things',\n",
       " 'go',\n",
       " 'planned']"
      ]
     },
     "execution_count": 95,
     "metadata": {},
     "output_type": "execute_result"
    }
   ],
   "source": [
    "processAbstract(2)"
   ]
  },
  {
   "cell_type": "code",
   "execution_count": 125,
   "metadata": {},
   "outputs": [],
   "source": [
    "def processAbstract(movieid):\n",
    "    valid_tags = [\"JJ\",\"JJR\",\"JJS\",\"NN\",\"NNS\"]\n",
    "    tokens = []\n",
    "    abstract = list(metadata.find({\"id\":movieid},{\"overview\":1}))\n",
    "    [tokens.append(item) for item, tag  in pos_tag(word_tokenize(abstract[0][\"overview\"])) if tag in valid_tags]\n",
    "    return tokens"
   ]
  },
  {
   "cell_type": "code",
   "execution_count": 126,
   "metadata": {},
   "outputs": [
    {
     "data": {
      "text/plain": [
       "['Finnish',\n",
       " 'coal',\n",
       " 'miner',\n",
       " 'father',\n",
       " 'suicide',\n",
       " 'crime',\n",
       " 'commit',\n",
       " 'jail',\n",
       " 'country',\n",
       " 'new',\n",
       " 'life',\n",
       " 'prison',\n",
       " 'things']"
      ]
     },
     "execution_count": 126,
     "metadata": {},
     "output_type": "execute_result"
    }
   ],
   "source": [
    "processAbstract(2)"
   ]
  },
  {
   "cell_type": "code",
   "execution_count": 122,
   "metadata": {},
   "outputs": [
    {
     "ename": "NameError",
     "evalue": "name 'tokens' is not defined",
     "output_type": "error",
     "traceback": [
      "\u001b[0;31m--------------------------------------------------------------------------\u001b[0m",
      "\u001b[0;31mNameError\u001b[0m                                Traceback (most recent call last)",
      "\u001b[0;32m<ipython-input-122-1c57b705edbf>\u001b[0m in \u001b[0;36m<module>\u001b[0;34m\u001b[0m\n\u001b[0;32m----> 1\u001b[0;31m \u001b[0mtokens\u001b[0m\u001b[0;34m\u001b[0m\u001b[0;34m\u001b[0m\u001b[0m\n\u001b[0m",
      "\u001b[0;31mNameError\u001b[0m: name 'tokens' is not defined"
     ]
    }
   ],
   "source": [
    "tokens"
   ]
  },
  {
   "cell_type": "code",
   "execution_count": null,
   "metadata": {},
   "outputs": [],
   "source": []
  }
 ],
 "metadata": {
  "kernelspec": {
   "display_name": "Python 3",
   "language": "python",
   "name": "python3"
  },
  "language_info": {
   "codemirror_mode": {
    "name": "ipython",
    "version": 3
   },
   "file_extension": ".py",
   "mimetype": "text/x-python",
   "name": "python",
   "nbconvert_exporter": "python",
   "pygments_lexer": "ipython3",
   "version": "3.6.9"
  }
 },
 "nbformat": 4,
 "nbformat_minor": 2
}
